{
 "cells": [
  {
   "cell_type": "code",
   "execution_count": null,
   "metadata": {},
   "outputs": [],
   "source": [
    "import pandas as pd\n",
    "import numpy as np\n",
    "import datetime as dt\n",
    "import matplotlib.pyplot as plt\n",
    "import seaborn as sns\n",
    "import time\n",
    "from sklearn.model_selection import train_test_split\n",
    "import statsmodels.api as sm \n",
    "from statsmodels.graphics.api import abline_plot \n",
    "from sklearn.metrics import mean_squared_error, r2_score, mean_absolute_error \n",
    "from sklearn import linear_model, preprocessing \n",
    "import warnings"
   ]
  },
  {
   "cell_type": "code",
   "execution_count": null,
   "metadata": {},
   "outputs": [],
   "source": [
    "goals = pd.read_csv('/Users/danielle.arneson/Desktop/goals.csv')"
   ]
  },
  {
   "cell_type": "code",
   "execution_count": null,
   "metadata": {},
   "outputs": [],
   "source": [
    "goals.info()"
   ]
  },
  {
   "cell_type": "code",
   "execution_count": null,
   "metadata": {},
   "outputs": [],
   "source": [
    "#df clean up\n",
    "goals['x6_week_engagement_modality__c'] = goals['x6_week_engagement_modality__c'].str.lower()\n",
    "goals['discontinued_coaching__c'] = goals['discontinued_coaching__c'].str.lower()\n",
    "goals['program_name__c'] = goals['program_name__c'].str.lower()\n",
    "goals['x6_week_engagement_goal_type__c'] = goals['x6_week_engagement_goal_type__c'].str.lower()\n",
    "goals['overall_goal_status__c'] = goals['overall_goal_status__c'].str.lower()\n",
    "goals['x6_week_engagement_modality__c'] = goals['x6_week_engagement_modality__c'].str.replace(\"(\", \"_\")\n",
    "goals['x6_week_engagement_modality__c'] = goals['x6_week_engagement_modality__c'].str.replace(\"-\", \"_\")\n",
    "goals['x6_week_engagement_modality__c'] = goals['x6_week_engagement_modality__c'].str.replace(\")\", \"\")\n",
    "goals['x6_week_engagement_modality__c'] = goals['x6_week_engagement_modality__c'].str.replace(\" \", \"_\")\n",
    "goals['overall_goal_status__c'] = goals['overall_goal_status__c'].str.replace(\" \", \"_\")\n",
    "goals['program_name__c'] = goals['program_name__c'].str.replace(\" \", \"_\")\n",
    "goals['discontinued_coaching__c'] = goals['discontinued_coaching__c'].str.replace(\" \", \"_\")\n",
    "goals.head()"
   ]
  },
  {
   "cell_type": "code",
   "execution_count": null,
   "metadata": {},
   "outputs": [],
   "source": [
    "goals['x6_week_engagement_modality__c'].unique()"
   ]
  },
  {
   "cell_type": "code",
   "execution_count": null,
   "metadata": {},
   "outputs": [],
   "source": [
    "goals=goals.replace(to_replace =['recorded_session'],  \n",
    "                            value ='group_coaching__webinar_series')\n",
    "goals=goals.replace(to_replace =[\"one_on_one__telephonic\"],  \n",
    "                            value =\"one_on_one\")"
   ]
  },
  {
   "cell_type": "code",
   "execution_count": null,
   "metadata": {},
   "outputs": [],
   "source": [
    "goals = goals.drop(goals[goals.x6_week_engagement_modality__c == 'one_on_one__video_coaching'].index) \n",
    "goals = goals.drop(goals[goals.x6_week_engagement_modality__c == 'one_on_one__1x_event'].index) \n",
    "goals = goals.drop(goals[goals.x6_week_engagement_modality__c == 'biometric_event_teachable_moment__1x_event'].index) \n",
    "goals = goals.drop(goals[goals.x6_week_engagement_modality__c == 'one_time_company_event'].index)\n",
    "goals = goals.drop(goals[goals.x6_week_engagement_modality__c == 'one_on_one_pgi'].index)\n",
    "goals = goals.drop(goals[goals.x6_week_engagement_modality__c == 'group_coaching__one_time_event'].index)\n",
    "goals = goals.drop(goals[goals.x6_week_engagement_modality__c == 'group_coaching__onsite_series'].index)"
   ]
  },
  {
   "cell_type": "code",
   "execution_count": null,
   "metadata": {},
   "outputs": [],
   "source": [
    "goals['x6_week_engagement_modality__c'].unique()"
   ]
  },
  {
   "cell_type": "code",
   "execution_count": null,
   "metadata": {},
   "outputs": [],
   "source": [
    "goals = goals[goals['x6_week_engagement_modality__c'].notna()]"
   ]
  },
  {
   "cell_type": "code",
   "execution_count": null,
   "metadata": {},
   "outputs": [],
   "source": [
    "goals['discontinued_coaching__c'] = goals['discontinued_coaching__c'].fillna(0)"
   ]
  },
  {
   "cell_type": "code",
   "execution_count": null,
   "metadata": {},
   "outputs": [],
   "source": [
    "goals['discontinued_coaching__c'].unique()"
   ]
  },
  {
   "cell_type": "code",
   "execution_count": null,
   "metadata": {},
   "outputs": [],
   "source": [
    "goals['goal_completed__c'] = goals['goal_completed__c'].fillna(0)"
   ]
  },
  {
   "cell_type": "code",
   "execution_count": null,
   "metadata": {},
   "outputs": [],
   "source": [
    "goals['last_engagement_activity__c'] = goals['last_engagement_activity__c'].fillna(0)"
   ]
  },
  {
   "cell_type": "code",
   "execution_count": null,
   "metadata": {},
   "outputs": [],
   "source": []
  },
  {
   "cell_type": "code",
   "execution_count": null,
   "metadata": {},
   "outputs": [],
   "source": [
    "goals['createddate']=pd.to_datetime(goals['createddate'])"
   ]
  },
  {
   "cell_type": "code",
   "execution_count": null,
   "metadata": {},
   "outputs": [],
   "source": [
    "goals = goals[goals['createddate'] > '2017-01-01 12:00:00']"
   ]
  },
  {
   "cell_type": "code",
   "execution_count": null,
   "metadata": {},
   "outputs": [],
   "source": [
    "goals.head(50)"
   ]
  },
  {
   "cell_type": "code",
   "execution_count": null,
   "metadata": {},
   "outputs": [],
   "source": [
    "goals['x6_week_engagement_modality__c'].describe()"
   ]
  },
  {
   "cell_type": "code",
   "execution_count": null,
   "metadata": {},
   "outputs": [],
   "source": [
    "goals['overall_goal_status__c'].describe()"
   ]
  },
  {
   "cell_type": "code",
   "execution_count": null,
   "metadata": {},
   "outputs": [],
   "source": [
    "sns.countplot(x=\"overall_goal_status__c\", data=goals)"
   ]
  },
  {
   "cell_type": "code",
   "execution_count": null,
   "metadata": {},
   "outputs": [],
   "source": [
    "status = goals.groupby(['x6_week_engagement_modality__c','overall_goal_status__c']).size().reset_index(name='counts')\n",
    "print(status)"
   ]
  },
  {
   "cell_type": "code",
   "execution_count": null,
   "metadata": {},
   "outputs": [],
   "source": [
    "status.loc['Total'] = pd.Series(status['counts'].sum(), index = ['counts'])\n",
    "print (status)"
   ]
  },
  {
   "cell_type": "code",
   "execution_count": null,
   "metadata": {},
   "outputs": [],
   "source": [
    "data = [5351,20545,19138,602452,1433,10102,402]\n",
    "series = pd.Series(data, index=(\"Complete\", \"Dismissed\", \"In Progress\", \"No Action\", \"Partially Complete\", \"Reg. Phase\", \"Rollover\"));\n",
    "\n",
    " \n",
    "\n",
    "# Create a pie chart\n",
    "\n",
    "series.plot.pie(label=\"\", title=\"One on One Coaching Goals\");\n",
    "\n",
    " \n",
    "\n",
    "plt.show(block=True);"
   ]
  },
  {
   "cell_type": "code",
   "execution_count": null,
   "metadata": {},
   "outputs": [],
   "source": [
    "data2 = [536398,363276,19138,602452,1433,10102,402]\n",
    "series = pd.Series(data2, index=(\"Complete\", \"Dismissed\", \"In Progress\", \"No Action\", \"Partially Complete\", \"Reg. Phase\", \"Rollover\"));\n",
    "\n",
    " \n",
    "\n",
    "# Create a pie chart\n",
    "\n",
    "series.plot.pie(label=\"\", title=\"Group Coaching Goals\");\n",
    "\n",
    " \n",
    "\n",
    "plt.show(block=True);"
   ]
  },
  {
   "cell_type": "code",
   "execution_count": null,
   "metadata": {},
   "outputs": [],
   "source": [
    "list(status.columns.values)"
   ]
  },
  {
   "cell_type": "code",
   "execution_count": null,
   "metadata": {},
   "outputs": [],
   "source": [
    "Total = status['counts'].sum()"
   ]
  },
  {
   "cell_type": "code",
   "execution_count": null,
   "metadata": {},
   "outputs": [],
   "source": [
    "status['percent'] = (status['counts'] / Total.sum() * 100)\n",
    "status"
   ]
  },
  {
   "cell_type": "code",
   "execution_count": null,
   "metadata": {},
   "outputs": [],
   "source": [
    "status= status.groupby('overall_goal_status__c')\n",
    "status"
   ]
  },
  {
   "cell_type": "code",
   "execution_count": null,
   "metadata": {},
   "outputs": [],
   "source": [
    "# Plot the data with Matplotlib defaults\n",
    "plt.plot(x, y)\n",
    "plt.legend('ABCDEF', ncol=2, loc='upper left');"
   ]
  },
  {
   "cell_type": "code",
   "execution_count": null,
   "metadata": {},
   "outputs": [],
   "source": [
    "status.plot.bar()"
   ]
  },
  {
   "cell_type": "code",
   "execution_count": null,
   "metadata": {},
   "outputs": [],
   "source": [
    "modality =goals.groupby(['x6_week_engagement_modality__c','overall_goal_status__c']).count()\n",
    "modality.head(50)"
   ]
  },
  {
   "cell_type": "code",
   "execution_count": null,
   "metadata": {},
   "outputs": [],
   "source": [
    "complete3 = pd.get_dummies(status['x6_week_engagement_goal_type__c'])"
   ]
  },
  {
   "cell_type": "code",
   "execution_count": null,
   "metadata": {},
   "outputs": [],
   "source": [
    "complete = goals[['x6_week_engagement_modality__c','overall_goal_status__c']].copy()\n",
    "complete"
   ]
  },
  {
   "cell_type": "code",
   "execution_count": null,
   "metadata": {},
   "outputs": [],
   "source": [
    "complete = complete.groupby('overall_goal_status__c').count()\n",
    "complete"
   ]
  },
  {
   "cell_type": "code",
   "execution_count": null,
   "metadata": {},
   "outputs": [],
   "source": []
  },
  {
   "cell_type": "code",
   "execution_count": null,
   "metadata": {},
   "outputs": [],
   "source": [
    "complete.reset_index(inplace=True)\n",
    "complete.head()"
   ]
  },
  {
   "cell_type": "code",
   "execution_count": null,
   "metadata": {},
   "outputs": [],
   "source": [
    "complete.columns"
   ]
  },
  {
   "cell_type": "code",
   "execution_count": null,
   "metadata": {},
   "outputs": [],
   "source": [
    "complete2 = pd.get_dummies(complete['overall_goal_status__c'])"
   ]
  },
  {
   "cell_type": "code",
   "execution_count": null,
   "metadata": {},
   "outputs": [],
   "source": [
    "complete2.columns"
   ]
  },
  {
   "cell_type": "code",
   "execution_count": null,
   "metadata": {},
   "outputs": [],
   "source": [
    "complete.head()"
   ]
  },
  {
   "cell_type": "code",
   "execution_count": null,
   "metadata": {},
   "outputs": [],
   "source": [
    "complete = pd.concat([complete, complete2], axis=1)\n",
    "complete.head()"
   ]
  },
  {
   "cell_type": "code",
   "execution_count": null,
   "metadata": {},
   "outputs": [],
   "source": [
    "X= complete[['complete']]\n",
    "y= complete[['x6_week_engagement_modality__c']]"
   ]
  },
  {
   "cell_type": "code",
   "execution_count": null,
   "metadata": {},
   "outputs": [],
   "source": []
  },
  {
   "cell_type": "code",
   "execution_count": null,
   "metadata": {},
   "outputs": [],
   "source": [
    "X_train, X_test, y_train, y_test = train_test_split(X, y, test_size= 0.67, random_state= 123)\n",
    "print(X_train.shape, y_train.shape)\n",
    "print( X_test.shape, y_test.shape)"
   ]
  },
  {
   "cell_type": "code",
   "execution_count": null,
   "metadata": {},
   "outputs": [],
   "source": [
    "model = linear_model.LinearRegression(normalize=True)"
   ]
  },
  {
   "cell_type": "code",
   "execution_count": null,
   "metadata": {},
   "outputs": [],
   "source": [
    "model.fit(X_train, y_train)"
   ]
  },
  {
   "cell_type": "code",
   "execution_count": null,
   "metadata": {},
   "outputs": [],
   "source": [
    "print(model.score(X_train, y_train))"
   ]
  },
  {
   "cell_type": "code",
   "execution_count": null,
   "metadata": {},
   "outputs": [],
   "source": [
    "sns.countplot(x=\"overall_goal_status__c\", data=complete)"
   ]
  },
  {
   "cell_type": "code",
   "execution_count": null,
   "metadata": {},
   "outputs": [],
   "source": [
    "data3 = [724448,417766,20344,607507,2077]\n",
    "series = pd.Series(data3, index=(\"Complete\", \"Dismissed\", \"In Progress\", \"No Action\", \"Partially Complete\"));\n",
    "\n",
    " \n",
    "\n",
    "# Create a pie chart\n",
    "\n",
    "series.plot.pie(label=\"\", title=\"Total overall goal status\");\n",
    "\n",
    " \n",
    "\n",
    "plt.show(block=True);"
   ]
  },
  {
   "cell_type": "code",
   "execution_count": null,
   "metadata": {},
   "outputs": [],
   "source": [
    "goals[['last_engagement_activity__c', 'createddate']].describe()"
   ]
  },
  {
   "cell_type": "code",
   "execution_count": null,
   "metadata": {},
   "outputs": [],
   "source": [
    "goals['last_engagement_activity__c'] = pd.to_datetime(goals['last_engagement_activity__c'])"
   ]
  },
  {
   "cell_type": "code",
   "execution_count": null,
   "metadata": {},
   "outputs": [],
   "source": [
    "activity = goals[(goals.overall_goal_status__c != 'no_action') & (goals.overall_goal_status__c != 'registration_phase')]\n",
    "activity.head()"
   ]
  },
  {
   "cell_type": "code",
   "execution_count": null,
   "metadata": {},
   "outputs": [],
   "source": [
    "activity = activity['completion_time'] = activity['last_engagement_activity__c'] - activity['createddate']"
   ]
  },
  {
   "cell_type": "code",
   "execution_count": null,
   "metadata": {},
   "outputs": [],
   "source": [
    "activity.head()"
   ]
  },
  {
   "cell_type": "code",
   "execution_count": null,
   "metadata": {},
   "outputs": [],
   "source": [
    "activity[\"Time\"] = pd.to_datetime(activity['Time'])\n",
    "activity.plot(x=\"Time\", y=[\"completion_time\"])\n",
    "plt.show()"
   ]
  },
  {
   "cell_type": "code",
   "execution_count": null,
   "metadata": {},
   "outputs": [],
   "source": []
  }
 ],
 "metadata": {
  "kernelspec": {
   "display_name": "Python 3",
   "language": "python",
   "name": "python3"
  },
  "language_info": {
   "codemirror_mode": {
    "name": "ipython",
    "version": 3
   },
   "file_extension": ".py",
   "mimetype": "text/x-python",
   "name": "python",
   "nbconvert_exporter": "python",
   "pygments_lexer": "ipython3",
   "version": "3.8.3"
  }
 },
 "nbformat": 4,
 "nbformat_minor": 4
}
