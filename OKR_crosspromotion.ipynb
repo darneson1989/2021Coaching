{
 "cells": [
  {
   "cell_type": "code",
   "execution_count": 28,
   "metadata": {},
   "outputs": [],
   "source": [
    "import pandas as pd \n",
    "import numpy as np\n",
    "import datetime \n",
    "import seaborn as sns\n",
    "import matplotlib.pyplot as plt"
   ]
  },
  {
   "cell_type": "code",
   "execution_count": 2,
   "metadata": {},
   "outputs": [],
   "source": [
    "referrals= pd.read_csv('/Users/danielle.arneson/Desktop/referral3.csv')\n",
    "goals = pd.read_csv('/Users/danielle.arneson/Desktop/goal_vs_referral.csv')\n",
    "survey = pd.read_csv('/Users/danielle.arneson/Desktop/70721survey.csv')"
   ]
  },
  {
   "cell_type": "code",
   "execution_count": 3,
   "metadata": {},
   "outputs": [
    {
     "data": {
      "text/html": [
       "<div>\n",
       "<style scoped>\n",
       "    .dataframe tbody tr th:only-of-type {\n",
       "        vertical-align: middle;\n",
       "    }\n",
       "\n",
       "    .dataframe tbody tr th {\n",
       "        vertical-align: top;\n",
       "    }\n",
       "\n",
       "    .dataframe thead th {\n",
       "        text-align: right;\n",
       "    }\n",
       "</style>\n",
       "<table border=\"1\" class=\"dataframe\">\n",
       "  <thead>\n",
       "    <tr style=\"text-align: right;\">\n",
       "      <th></th>\n",
       "      <th>Goal Record ID</th>\n",
       "      <th>Weekly Coaching Engagement Unique ID</th>\n",
       "      <th>External Participant Id</th>\n",
       "      <th>Date of Engagement</th>\n",
       "      <th>3rd Party Referrals</th>\n",
       "      <th>national_referral</th>\n",
       "      <th>Aduro_resource</th>\n",
       "      <th>external_resource</th>\n",
       "      <th>Coach Mentor</th>\n",
       "    </tr>\n",
       "  </thead>\n",
       "  <tbody>\n",
       "    <tr>\n",
       "      <th>0</th>\n",
       "      <td>20210323-2064596</td>\n",
       "      <td>E-20210601-5708476</td>\n",
       "      <td>1a082044-6e3e-4fb0-8747-7915fdfea0c1</td>\n",
       "      <td>6/1/21</td>\n",
       "      <td>NaN</td>\n",
       "      <td>NaN</td>\n",
       "      <td>Path/Mini Path</td>\n",
       "      <td>NaN</td>\n",
       "      <td>Coach Ari. D</td>\n",
       "    </tr>\n",
       "    <tr>\n",
       "      <th>1</th>\n",
       "      <td>20210115-2021998</td>\n",
       "      <td>E-20210607-5713774</td>\n",
       "      <td>9abf6775-6982-49da-a2ac-ef771da6be55</td>\n",
       "      <td>6/7/21</td>\n",
       "      <td>NaN</td>\n",
       "      <td>NaN</td>\n",
       "      <td>Path/Mini Path</td>\n",
       "      <td>NaN</td>\n",
       "      <td>Coach Ari. D</td>\n",
       "    </tr>\n",
       "    <tr>\n",
       "      <th>2</th>\n",
       "      <td>20210511-2086336</td>\n",
       "      <td>E-20210614-5720165</td>\n",
       "      <td>bdcf1ff1-3500-4867-bf49-34c8b209f2e0</td>\n",
       "      <td>6/14/21</td>\n",
       "      <td>NaN</td>\n",
       "      <td>NaN</td>\n",
       "      <td>Path/Mini Path</td>\n",
       "      <td>NaN</td>\n",
       "      <td>Coach Ari. D</td>\n",
       "    </tr>\n",
       "    <tr>\n",
       "      <th>3</th>\n",
       "      <td>20210503-2083404</td>\n",
       "      <td>E-20210615-5720845</td>\n",
       "      <td>63eb122d-7652-479b-8a79-ae037bae4e30</td>\n",
       "      <td>6/15/21</td>\n",
       "      <td>NaN</td>\n",
       "      <td>NaN</td>\n",
       "      <td>Path/Mini Path</td>\n",
       "      <td>NaN</td>\n",
       "      <td>Coach Ari. D</td>\n",
       "    </tr>\n",
       "    <tr>\n",
       "      <th>4</th>\n",
       "      <td>20210614-2096196</td>\n",
       "      <td>E-20210616-5721999</td>\n",
       "      <td>967d3e75-66c9-46ae-9e93-a54c59c0ba88</td>\n",
       "      <td>6/16/21</td>\n",
       "      <td>NaN</td>\n",
       "      <td>NaN</td>\n",
       "      <td>Path/Mini Path</td>\n",
       "      <td>NaN</td>\n",
       "      <td>Coach Ari. D</td>\n",
       "    </tr>\n",
       "  </tbody>\n",
       "</table>\n",
       "</div>"
      ],
      "text/plain": [
       "     Goal Record ID Weekly Coaching Engagement Unique ID  \\\n",
       "0  20210323-2064596                   E-20210601-5708476   \n",
       "1  20210115-2021998                   E-20210607-5713774   \n",
       "2  20210511-2086336                   E-20210614-5720165   \n",
       "3  20210503-2083404                   E-20210615-5720845   \n",
       "4  20210614-2096196                   E-20210616-5721999   \n",
       "\n",
       "                External Participant Id Date of Engagement  \\\n",
       "0  1a082044-6e3e-4fb0-8747-7915fdfea0c1             6/1/21   \n",
       "1  9abf6775-6982-49da-a2ac-ef771da6be55             6/7/21   \n",
       "2  bdcf1ff1-3500-4867-bf49-34c8b209f2e0            6/14/21   \n",
       "3  63eb122d-7652-479b-8a79-ae037bae4e30            6/15/21   \n",
       "4  967d3e75-66c9-46ae-9e93-a54c59c0ba88            6/16/21   \n",
       "\n",
       "  3rd Party Referrals  national_referral  Aduro_resource external_resource  \\\n",
       "0                 NaN                NaN  Path/Mini Path               NaN   \n",
       "1                 NaN                NaN  Path/Mini Path               NaN   \n",
       "2                 NaN                NaN  Path/Mini Path               NaN   \n",
       "3                 NaN                NaN  Path/Mini Path               NaN   \n",
       "4                 NaN                NaN  Path/Mini Path               NaN   \n",
       "\n",
       "   Coach Mentor  \n",
       "0  Coach Ari. D  \n",
       "1  Coach Ari. D  \n",
       "2  Coach Ari. D  \n",
       "3  Coach Ari. D  \n",
       "4  Coach Ari. D  "
      ]
     },
     "execution_count": 3,
     "metadata": {},
     "output_type": "execute_result"
    }
   ],
   "source": [
    "referrals.head()"
   ]
  },
  {
   "cell_type": "code",
   "execution_count": 4,
   "metadata": {},
   "outputs": [
    {
     "data": {
      "text/html": [
       "<div>\n",
       "<style scoped>\n",
       "    .dataframe tbody tr th:only-of-type {\n",
       "        vertical-align: middle;\n",
       "    }\n",
       "\n",
       "    .dataframe tbody tr th {\n",
       "        vertical-align: top;\n",
       "    }\n",
       "\n",
       "    .dataframe thead th {\n",
       "        text-align: right;\n",
       "    }\n",
       "</style>\n",
       "<table border=\"1\" class=\"dataframe\">\n",
       "  <thead>\n",
       "    <tr style=\"text-align: right;\">\n",
       "      <th></th>\n",
       "      <th>Contact: Full Name</th>\n",
       "      <th>Contact Email Address</th>\n",
       "      <th>Created Date</th>\n",
       "      <th>External Participant Id</th>\n",
       "      <th>Goal Record ID</th>\n",
       "      <th>Overall Goal Status</th>\n",
       "      <th>Total Engagement</th>\n",
       "      <th>Total Received Engagements</th>\n",
       "      <th>Program: Program Name</th>\n",
       "      <th>Start Date</th>\n",
       "      <th>Coach Mentor</th>\n",
       "      <th>Goal Name</th>\n",
       "    </tr>\n",
       "  </thead>\n",
       "  <tbody>\n",
       "    <tr>\n",
       "      <th>0</th>\n",
       "      <td>Tina Hart</td>\n",
       "      <td>tina.hart@us.abb.com</td>\n",
       "      <td>4/21/21</td>\n",
       "      <td>ea27a2cc-941d-41ab-bdeb-960732c03e68</td>\n",
       "      <td>20210421-2078678</td>\n",
       "      <td>No Action</td>\n",
       "      <td>0.0</td>\n",
       "      <td>0.0</td>\n",
       "      <td>ABB 2021</td>\n",
       "      <td>4/8/21</td>\n",
       "      <td>NaN</td>\n",
       "      <td>Ignite Your Life Savings 101 Thu, Apr 8 2021</td>\n",
       "    </tr>\n",
       "    <tr>\n",
       "      <th>1</th>\n",
       "      <td>Tina Hart</td>\n",
       "      <td>tina.hart@us.abb.com</td>\n",
       "      <td>4/21/21</td>\n",
       "      <td>ea27a2cc-941d-41ab-bdeb-960732c03e68</td>\n",
       "      <td>20210421-2078680</td>\n",
       "      <td>No Action</td>\n",
       "      <td>0.0</td>\n",
       "      <td>0.0</td>\n",
       "      <td>ABB 2021</td>\n",
       "      <td>4/5/21</td>\n",
       "      <td>NaN</td>\n",
       "      <td>Ignite Your Life Be a Change Maker Mon, Apr 5 ...</td>\n",
       "    </tr>\n",
       "    <tr>\n",
       "      <th>2</th>\n",
       "      <td>Sherry Willis</td>\n",
       "      <td>sherry.willis05@gmail.com</td>\n",
       "      <td>4/21/21</td>\n",
       "      <td>d5ca5a8a-4d8d-4435-ad8f-1a270764e0eb</td>\n",
       "      <td>20210421-2078685</td>\n",
       "      <td>Partially Complete</td>\n",
       "      <td>4.0</td>\n",
       "      <td>4.0</td>\n",
       "      <td>ABB 2021</td>\n",
       "      <td>4/9/21</td>\n",
       "      <td>NaN</td>\n",
       "      <td>Ignite Your Life Dream Big Fri, Apr 9 2021</td>\n",
       "    </tr>\n",
       "    <tr>\n",
       "      <th>3</th>\n",
       "      <td>JOHN KIRBY</td>\n",
       "      <td>johna.kirby@us.abb.xom</td>\n",
       "      <td>4/21/21</td>\n",
       "      <td>a6456e96-84a1-43be-87c5-18316f5420be</td>\n",
       "      <td>20210421-2078743</td>\n",
       "      <td>No Action</td>\n",
       "      <td>0.0</td>\n",
       "      <td>0.0</td>\n",
       "      <td>ABB 2021</td>\n",
       "      <td>4/6/21</td>\n",
       "      <td>NaN</td>\n",
       "      <td>Ignite Your Life Budget Basics Tue, Apr 6 2021</td>\n",
       "    </tr>\n",
       "    <tr>\n",
       "      <th>4</th>\n",
       "      <td>JOHN KIRBY</td>\n",
       "      <td>johna.kirby@us.abb.xom</td>\n",
       "      <td>4/21/21</td>\n",
       "      <td>a6456e96-84a1-43be-87c5-18316f5420be</td>\n",
       "      <td>20210421-2078745</td>\n",
       "      <td>No Action</td>\n",
       "      <td>0.0</td>\n",
       "      <td>0.0</td>\n",
       "      <td>ABB 2021</td>\n",
       "      <td>4/9/21</td>\n",
       "      <td>NaN</td>\n",
       "      <td>Ignite Your Life Dream Big Fri, Apr 9 2021</td>\n",
       "    </tr>\n",
       "  </tbody>\n",
       "</table>\n",
       "</div>"
      ],
      "text/plain": [
       "  Contact: Full Name      Contact Email Address Created Date  \\\n",
       "0          Tina Hart       tina.hart@us.abb.com      4/21/21   \n",
       "1          Tina Hart       tina.hart@us.abb.com      4/21/21   \n",
       "2      Sherry Willis  sherry.willis05@gmail.com      4/21/21   \n",
       "3         JOHN KIRBY     johna.kirby@us.abb.xom      4/21/21   \n",
       "4         JOHN KIRBY     johna.kirby@us.abb.xom      4/21/21   \n",
       "\n",
       "                External Participant Id    Goal Record ID Overall Goal Status  \\\n",
       "0  ea27a2cc-941d-41ab-bdeb-960732c03e68  20210421-2078678           No Action   \n",
       "1  ea27a2cc-941d-41ab-bdeb-960732c03e68  20210421-2078680           No Action   \n",
       "2  d5ca5a8a-4d8d-4435-ad8f-1a270764e0eb  20210421-2078685  Partially Complete   \n",
       "3  a6456e96-84a1-43be-87c5-18316f5420be  20210421-2078743           No Action   \n",
       "4  a6456e96-84a1-43be-87c5-18316f5420be  20210421-2078745           No Action   \n",
       "\n",
       "   Total Engagement  Total Received Engagements Program: Program Name  \\\n",
       "0               0.0                         0.0              ABB 2021   \n",
       "1               0.0                         0.0              ABB 2021   \n",
       "2               4.0                         4.0              ABB 2021   \n",
       "3               0.0                         0.0              ABB 2021   \n",
       "4               0.0                         0.0              ABB 2021   \n",
       "\n",
       "  Start Date Coach Mentor                                          Goal Name  \n",
       "0     4/8/21          NaN       Ignite Your Life Savings 101 Thu, Apr 8 2021  \n",
       "1     4/5/21          NaN  Ignite Your Life Be a Change Maker Mon, Apr 5 ...  \n",
       "2     4/9/21          NaN         Ignite Your Life Dream Big Fri, Apr 9 2021  \n",
       "3     4/6/21          NaN     Ignite Your Life Budget Basics Tue, Apr 6 2021  \n",
       "4     4/9/21          NaN         Ignite Your Life Dream Big Fri, Apr 9 2021  "
      ]
     },
     "execution_count": 4,
     "metadata": {},
     "output_type": "execute_result"
    }
   ],
   "source": [
    "goals.head()"
   ]
  },
  {
   "cell_type": "code",
   "execution_count": 5,
   "metadata": {},
   "outputs": [
    {
     "name": "stdout",
     "output_type": "stream",
     "text": [
      "<class 'pandas.core.frame.DataFrame'>\n",
      "RangeIndex: 10042 entries, 0 to 10041\n",
      "Data columns (total 12 columns):\n",
      " #   Column                      Non-Null Count  Dtype  \n",
      "---  ------                      --------------  -----  \n",
      " 0   Contact: Full Name          10041 non-null  object \n",
      " 1   Contact Email Address       9793 non-null   object \n",
      " 2   Created Date                10036 non-null  object \n",
      " 3   External Participant Id     10026 non-null  object \n",
      " 4   Goal Record ID              10036 non-null  object \n",
      " 5   Overall Goal Status         10036 non-null  object \n",
      " 6   Total Engagement            10036 non-null  float64\n",
      " 7   Total Received Engagements  10036 non-null  float64\n",
      " 8   Program: Program Name       10036 non-null  object \n",
      " 9   Start Date                  10036 non-null  object \n",
      " 10  Coach Mentor                1 non-null      object \n",
      " 11  Goal Name                   10036 non-null  object \n",
      "dtypes: float64(2), object(10)\n",
      "memory usage: 941.6+ KB\n"
     ]
    }
   ],
   "source": [
    "goals.info()"
   ]
  },
  {
   "cell_type": "code",
   "execution_count": 6,
   "metadata": {},
   "outputs": [
    {
     "data": {
      "text/html": [
       "<div>\n",
       "<style scoped>\n",
       "    .dataframe tbody tr th:only-of-type {\n",
       "        vertical-align: middle;\n",
       "    }\n",
       "\n",
       "    .dataframe tbody tr th {\n",
       "        vertical-align: top;\n",
       "    }\n",
       "\n",
       "    .dataframe thead th {\n",
       "        text-align: right;\n",
       "    }\n",
       "</style>\n",
       "<table border=\"1\" class=\"dataframe\">\n",
       "  <thead>\n",
       "    <tr style=\"text-align: right;\">\n",
       "      <th></th>\n",
       "      <th>Contact: Full Name</th>\n",
       "      <th>Contact Email Address</th>\n",
       "      <th>Created Date</th>\n",
       "      <th>External Participant Id</th>\n",
       "      <th>Goal Record ID_x</th>\n",
       "      <th>Overall Goal Status</th>\n",
       "      <th>Total Engagement</th>\n",
       "      <th>Total Received Engagements</th>\n",
       "      <th>Program: Program Name</th>\n",
       "      <th>Start Date</th>\n",
       "      <th>Coach Mentor_x</th>\n",
       "      <th>Goal Name</th>\n",
       "      <th>Goal Record ID_y</th>\n",
       "      <th>Weekly Coaching Engagement Unique ID</th>\n",
       "      <th>Date of Engagement</th>\n",
       "      <th>3rd Party Referrals</th>\n",
       "      <th>national_referral</th>\n",
       "      <th>Aduro_resource</th>\n",
       "      <th>external_resource</th>\n",
       "      <th>Coach Mentor_y</th>\n",
       "    </tr>\n",
       "  </thead>\n",
       "  <tbody>\n",
       "    <tr>\n",
       "      <th>0</th>\n",
       "      <td>Kevin Anthony</td>\n",
       "      <td>kanthony9520@sbcglobal.net</td>\n",
       "      <td>5/19/21</td>\n",
       "      <td>5e533efe-80b6-4dba-8a46-f4afbdf8b5c2</td>\n",
       "      <td>20210519-2089289</td>\n",
       "      <td>In Progress</td>\n",
       "      <td>2.0</td>\n",
       "      <td>2.0</td>\n",
       "      <td>Bayer 2021</td>\n",
       "      <td>5/18/21</td>\n",
       "      <td>NaN</td>\n",
       "      <td>Ignite Your Life Effective Listening Skills Tu...</td>\n",
       "      <td>20210519-2089295</td>\n",
       "      <td>E-20210524-5703713</td>\n",
       "      <td>5/24/21</td>\n",
       "      <td>NaN</td>\n",
       "      <td>NaN</td>\n",
       "      <td>Path/Mini Path</td>\n",
       "      <td>NaN</td>\n",
       "      <td>Coach Jaxon S.</td>\n",
       "    </tr>\n",
       "    <tr>\n",
       "      <th>1</th>\n",
       "      <td>Chandra Pradhan</td>\n",
       "      <td>chandra_pradhan@bshsi.org</td>\n",
       "      <td>5/3/21</td>\n",
       "      <td>63eb122d-7652-479b-8a79-ae037bae4e30</td>\n",
       "      <td>20210503-2083401</td>\n",
       "      <td>Partially Complete</td>\n",
       "      <td>1.0</td>\n",
       "      <td>0.0</td>\n",
       "      <td>BeWellWithinA 2021a</td>\n",
       "      <td>4/9/21</td>\n",
       "      <td>NaN</td>\n",
       "      <td>Ignite Your Life Change Your Habits Fri, Apr 9...</td>\n",
       "      <td>20210503-2083404</td>\n",
       "      <td>E-20210615-5720845</td>\n",
       "      <td>6/15/21</td>\n",
       "      <td>NaN</td>\n",
       "      <td>NaN</td>\n",
       "      <td>Path/Mini Path</td>\n",
       "      <td>NaN</td>\n",
       "      <td>Coach Ari. D</td>\n",
       "    </tr>\n",
       "    <tr>\n",
       "      <th>2</th>\n",
       "      <td>Zachary Parker</td>\n",
       "      <td>zach.parker@busey.com</td>\n",
       "      <td>6/16/21</td>\n",
       "      <td>NaN</td>\n",
       "      <td>20210616-2096596</td>\n",
       "      <td>In Progress</td>\n",
       "      <td>3.0</td>\n",
       "      <td>2.0</td>\n",
       "      <td>Busey Bank 2021</td>\n",
       "      <td>5/19/21</td>\n",
       "      <td>NaN</td>\n",
       "      <td>Ignite Your Life Mood &amp; Food Wed, May 19 2021</td>\n",
       "      <td>NaN</td>\n",
       "      <td>NaN</td>\n",
       "      <td>NaN</td>\n",
       "      <td>NaN</td>\n",
       "      <td>NaN</td>\n",
       "      <td>NaN</td>\n",
       "      <td>NaN</td>\n",
       "      <td>NaN</td>\n",
       "    </tr>\n",
       "    <tr>\n",
       "      <th>3</th>\n",
       "      <td>Zachary Parker</td>\n",
       "      <td>zach.parker@busey.com</td>\n",
       "      <td>6/16/21</td>\n",
       "      <td>NaN</td>\n",
       "      <td>20210616-2096596</td>\n",
       "      <td>In Progress</td>\n",
       "      <td>3.0</td>\n",
       "      <td>2.0</td>\n",
       "      <td>Busey Bank 2021</td>\n",
       "      <td>5/19/21</td>\n",
       "      <td>NaN</td>\n",
       "      <td>Ignite Your Life Mood &amp; Food Wed, May 19 2021</td>\n",
       "      <td>NaN</td>\n",
       "      <td>NaN</td>\n",
       "      <td>NaN</td>\n",
       "      <td>NaN</td>\n",
       "      <td>NaN</td>\n",
       "      <td>NaN</td>\n",
       "      <td>NaN</td>\n",
       "      <td>NaN</td>\n",
       "    </tr>\n",
       "    <tr>\n",
       "      <th>4</th>\n",
       "      <td>Zachary Parker</td>\n",
       "      <td>zach.parker@busey.com</td>\n",
       "      <td>6/16/21</td>\n",
       "      <td>NaN</td>\n",
       "      <td>20210616-2096596</td>\n",
       "      <td>In Progress</td>\n",
       "      <td>3.0</td>\n",
       "      <td>2.0</td>\n",
       "      <td>Busey Bank 2021</td>\n",
       "      <td>5/19/21</td>\n",
       "      <td>NaN</td>\n",
       "      <td>Ignite Your Life Mood &amp; Food Wed, May 19 2021</td>\n",
       "      <td>NaN</td>\n",
       "      <td>NaN</td>\n",
       "      <td>NaN</td>\n",
       "      <td>NaN</td>\n",
       "      <td>NaN</td>\n",
       "      <td>NaN</td>\n",
       "      <td>NaN</td>\n",
       "      <td>NaN</td>\n",
       "    </tr>\n",
       "  </tbody>\n",
       "</table>\n",
       "</div>"
      ],
      "text/plain": [
       "  Contact: Full Name       Contact Email Address Created Date  \\\n",
       "0      Kevin Anthony  kanthony9520@sbcglobal.net      5/19/21   \n",
       "1    Chandra Pradhan   chandra_pradhan@bshsi.org       5/3/21   \n",
       "2     Zachary Parker       zach.parker@busey.com      6/16/21   \n",
       "3     Zachary Parker       zach.parker@busey.com      6/16/21   \n",
       "4     Zachary Parker       zach.parker@busey.com      6/16/21   \n",
       "\n",
       "                External Participant Id  Goal Record ID_x Overall Goal Status  \\\n",
       "0  5e533efe-80b6-4dba-8a46-f4afbdf8b5c2  20210519-2089289         In Progress   \n",
       "1  63eb122d-7652-479b-8a79-ae037bae4e30  20210503-2083401  Partially Complete   \n",
       "2                                   NaN  20210616-2096596         In Progress   \n",
       "3                                   NaN  20210616-2096596         In Progress   \n",
       "4                                   NaN  20210616-2096596         In Progress   \n",
       "\n",
       "   Total Engagement  Total Received Engagements Program: Program Name  \\\n",
       "0               2.0                         2.0            Bayer 2021   \n",
       "1               1.0                         0.0   BeWellWithinA 2021a   \n",
       "2               3.0                         2.0       Busey Bank 2021   \n",
       "3               3.0                         2.0       Busey Bank 2021   \n",
       "4               3.0                         2.0       Busey Bank 2021   \n",
       "\n",
       "  Start Date Coach Mentor_x  \\\n",
       "0    5/18/21            NaN   \n",
       "1     4/9/21            NaN   \n",
       "2    5/19/21            NaN   \n",
       "3    5/19/21            NaN   \n",
       "4    5/19/21            NaN   \n",
       "\n",
       "                                           Goal Name  Goal Record ID_y  \\\n",
       "0  Ignite Your Life Effective Listening Skills Tu...  20210519-2089295   \n",
       "1  Ignite Your Life Change Your Habits Fri, Apr 9...  20210503-2083404   \n",
       "2      Ignite Your Life Mood & Food Wed, May 19 2021               NaN   \n",
       "3      Ignite Your Life Mood & Food Wed, May 19 2021               NaN   \n",
       "4      Ignite Your Life Mood & Food Wed, May 19 2021               NaN   \n",
       "\n",
       "  Weekly Coaching Engagement Unique ID Date of Engagement 3rd Party Referrals  \\\n",
       "0                   E-20210524-5703713            5/24/21                 NaN   \n",
       "1                   E-20210615-5720845            6/15/21                 NaN   \n",
       "2                                  NaN                NaN                 NaN   \n",
       "3                                  NaN                NaN                 NaN   \n",
       "4                                  NaN                NaN                 NaN   \n",
       "\n",
       "   national_referral  Aduro_resource external_resource  Coach Mentor_y  \n",
       "0                NaN  Path/Mini Path               NaN  Coach Jaxon S.  \n",
       "1                NaN  Path/Mini Path               NaN    Coach Ari. D  \n",
       "2                NaN             NaN               NaN             NaN  \n",
       "3                NaN             NaN               NaN             NaN  \n",
       "4                NaN             NaN               NaN             NaN  "
      ]
     },
     "execution_count": 6,
     "metadata": {},
     "output_type": "execute_result"
    }
   ],
   "source": [
    "merged = pd.merge(goals, referrals,how='inner', on=['External Participant Id'])\n",
    "merged.head()"
   ]
  },
  {
   "cell_type": "code",
   "execution_count": 7,
   "metadata": {},
   "outputs": [
    {
     "name": "stdout",
     "output_type": "stream",
     "text": [
      "<class 'pandas.core.frame.DataFrame'>\n",
      "Int64Index: 141 entries, 0 to 140\n",
      "Data columns (total 20 columns):\n",
      " #   Column                                Non-Null Count  Dtype  \n",
      "---  ------                                --------------  -----  \n",
      " 0   Contact: Full Name                    135 non-null    object \n",
      " 1   Contact Email Address                 87 non-null     object \n",
      " 2   Created Date                          105 non-null    object \n",
      " 3   External Participant Id               45 non-null     object \n",
      " 4   Goal Record ID_x                      105 non-null    object \n",
      " 5   Overall Goal Status                   105 non-null    object \n",
      " 6   Total Engagement                      105 non-null    float64\n",
      " 7   Total Received Engagements            105 non-null    float64\n",
      " 8   Program: Program Name                 105 non-null    object \n",
      " 9   Start Date                            105 non-null    object \n",
      " 10  Coach Mentor_x                        0 non-null      object \n",
      " 11  Goal Name                             105 non-null    object \n",
      " 12  Goal Record ID_y                      45 non-null     object \n",
      " 13  Weekly Coaching Engagement Unique ID  45 non-null     object \n",
      " 14  Date of Engagement                    45 non-null     object \n",
      " 15  3rd Party Referrals                   1 non-null      object \n",
      " 16  national_referral                     0 non-null      float64\n",
      " 17  Aduro_resource                        45 non-null     object \n",
      " 18  external_resource                     0 non-null      object \n",
      " 19  Coach Mentor_y                        45 non-null     object \n",
      "dtypes: float64(3), object(17)\n",
      "memory usage: 23.1+ KB\n"
     ]
    }
   ],
   "source": [
    "merged.info()"
   ]
  },
  {
   "cell_type": "code",
   "execution_count": 8,
   "metadata": {},
   "outputs": [],
   "source": [
    "itworked=merged[merged['Created Date'] > merged['Date of Engagement']]"
   ]
  },
  {
   "cell_type": "code",
   "execution_count": 9,
   "metadata": {},
   "outputs": [
    {
     "name": "stdout",
     "output_type": "stream",
     "text": [
      "<class 'pandas.core.frame.DataFrame'>\n",
      "Int64Index: 4 entries, 108 to 138\n",
      "Data columns (total 20 columns):\n",
      " #   Column                                Non-Null Count  Dtype  \n",
      "---  ------                                --------------  -----  \n",
      " 0   Contact: Full Name                    4 non-null      object \n",
      " 1   Contact Email Address                 4 non-null      object \n",
      " 2   Created Date                          4 non-null      object \n",
      " 3   External Participant Id               4 non-null      object \n",
      " 4   Goal Record ID_x                      4 non-null      object \n",
      " 5   Overall Goal Status                   4 non-null      object \n",
      " 6   Total Engagement                      4 non-null      float64\n",
      " 7   Total Received Engagements            4 non-null      float64\n",
      " 8   Program: Program Name                 4 non-null      object \n",
      " 9   Start Date                            4 non-null      object \n",
      " 10  Coach Mentor_x                        0 non-null      object \n",
      " 11  Goal Name                             4 non-null      object \n",
      " 12  Goal Record ID_y                      4 non-null      object \n",
      " 13  Weekly Coaching Engagement Unique ID  4 non-null      object \n",
      " 14  Date of Engagement                    4 non-null      object \n",
      " 15  3rd Party Referrals                   0 non-null      object \n",
      " 16  national_referral                     0 non-null      float64\n",
      " 17  Aduro_resource                        4 non-null      object \n",
      " 18  external_resource                     0 non-null      object \n",
      " 19  Coach Mentor_y                        4 non-null      object \n",
      "dtypes: float64(3), object(17)\n",
      "memory usage: 672.0+ bytes\n"
     ]
    }
   ],
   "source": [
    "itworked.info()"
   ]
  },
  {
   "cell_type": "code",
   "execution_count": 10,
   "metadata": {},
   "outputs": [],
   "source": [
    "itworked2=merged[merged['Date of Engagement'] < merged['Created Date']]"
   ]
  },
  {
   "cell_type": "raw",
   "metadata": {},
   "source": []
  },
  {
   "cell_type": "code",
   "execution_count": 11,
   "metadata": {},
   "outputs": [
    {
     "name": "stdout",
     "output_type": "stream",
     "text": [
      "<class 'pandas.core.frame.DataFrame'>\n",
      "Int64Index: 4 entries, 108 to 138\n",
      "Data columns (total 20 columns):\n",
      " #   Column                                Non-Null Count  Dtype  \n",
      "---  ------                                --------------  -----  \n",
      " 0   Contact: Full Name                    4 non-null      object \n",
      " 1   Contact Email Address                 4 non-null      object \n",
      " 2   Created Date                          4 non-null      object \n",
      " 3   External Participant Id               4 non-null      object \n",
      " 4   Goal Record ID_x                      4 non-null      object \n",
      " 5   Overall Goal Status                   4 non-null      object \n",
      " 6   Total Engagement                      4 non-null      float64\n",
      " 7   Total Received Engagements            4 non-null      float64\n",
      " 8   Program: Program Name                 4 non-null      object \n",
      " 9   Start Date                            4 non-null      object \n",
      " 10  Coach Mentor_x                        0 non-null      object \n",
      " 11  Goal Name                             4 non-null      object \n",
      " 12  Goal Record ID_y                      4 non-null      object \n",
      " 13  Weekly Coaching Engagement Unique ID  4 non-null      object \n",
      " 14  Date of Engagement                    4 non-null      object \n",
      " 15  3rd Party Referrals                   0 non-null      object \n",
      " 16  national_referral                     0 non-null      float64\n",
      " 17  Aduro_resource                        4 non-null      object \n",
      " 18  external_resource                     0 non-null      object \n",
      " 19  Coach Mentor_y                        4 non-null      object \n",
      "dtypes: float64(3), object(17)\n",
      "memory usage: 672.0+ bytes\n"
     ]
    }
   ],
   "source": [
    "itworked2.info()"
   ]
  },
  {
   "cell_type": "code",
   "execution_count": 12,
   "metadata": {},
   "outputs": [
    {
     "data": {
      "text/plain": [
       "array(['Registration Phase', 'No Action', 'In Progress'], dtype=object)"
      ]
     },
     "execution_count": 12,
     "metadata": {},
     "output_type": "execute_result"
    }
   ],
   "source": [
    "itworked2['Overall Goal Status'].unique()"
   ]
  },
  {
   "cell_type": "code",
   "execution_count": 13,
   "metadata": {},
   "outputs": [
    {
     "data": {
      "text/plain": [
       "In Progress           2\n",
       "No Action             1\n",
       "Registration Phase    1\n",
       "Name: Overall Goal Status, dtype: int64"
      ]
     },
     "execution_count": 13,
     "metadata": {},
     "output_type": "execute_result"
    }
   ],
   "source": [
    "itworked2['Overall Goal Status'].value_counts()"
   ]
  },
  {
   "cell_type": "code",
   "execution_count": 14,
   "metadata": {},
   "outputs": [
    {
     "name": "stdout",
     "output_type": "stream",
     "text": [
      "<class 'pandas.core.frame.DataFrame'>\n",
      "RangeIndex: 5794 entries, 0 to 5793\n",
      "Data columns (total 24 columns):\n",
      " #   Column                        Non-Null Count  Dtype  \n",
      "---  ------                        --------------  -----  \n",
      " 0   User Progress Id              5794 non-null   int64  \n",
      " 1   Survey Id                     5794 non-null   int64  \n",
      " 2   Survey Title                  5794 non-null   object \n",
      " 3   Language                      0 non-null      float64\n",
      " 4   Mode                          5344 non-null   object \n",
      " 5   Wave Start Date               5794 non-null   object \n",
      " 6   Wave End Date                 5794 non-null   object \n",
      " 7   Status                        5794 non-null   object \n",
      " 8   Participant Id                0 non-null      float64\n",
      " 9   Publish Id                    5794 non-null   int64  \n",
      " 10  Instance                      5794 non-null   int64  \n",
      " 11  User Id                       5794 non-null   int64  \n",
      " 12  Contact Id                    5794 non-null   object \n",
      " 13  External Participant Id       5793 non-null   object \n",
      " 14  Employer Id                   1565 non-null   object \n",
      " 15  Start Date Time Stamp         5794 non-null   object \n",
      " 16  End Date Time Stamp           5325 non-null   object \n",
      " 17  CoachingConfidence            5344 non-null   float64\n",
      " 18  CoachingMotivation            5338 non-null   float64\n",
      " 19  CMLFlourishOverallSatisfied   5336 non-null   float64\n",
      " 20  CMLFlourishHappy              5336 non-null   float64\n",
      " 21  CoachingHabitsGoalsAlignment  5333 non-null   object \n",
      " 22  CoachingSatisfaction          5333 non-null   object \n",
      " 23  CoachingFeedback              2138 non-null   object \n",
      "dtypes: float64(6), int64(5), object(13)\n",
      "memory usage: 1.1+ MB\n"
     ]
    }
   ],
   "source": [
    "survey.info()"
   ]
  },
  {
   "cell_type": "code",
   "execution_count": 15,
   "metadata": {},
   "outputs": [
    {
     "data": {
      "text/html": [
       "<div>\n",
       "<style scoped>\n",
       "    .dataframe tbody tr th:only-of-type {\n",
       "        vertical-align: middle;\n",
       "    }\n",
       "\n",
       "    .dataframe tbody tr th {\n",
       "        vertical-align: top;\n",
       "    }\n",
       "\n",
       "    .dataframe thead th {\n",
       "        text-align: right;\n",
       "    }\n",
       "</style>\n",
       "<table border=\"1\" class=\"dataframe\">\n",
       "  <thead>\n",
       "    <tr style=\"text-align: right;\">\n",
       "      <th></th>\n",
       "      <th>User Progress Id</th>\n",
       "      <th>Survey Id</th>\n",
       "      <th>Survey Title</th>\n",
       "      <th>Language</th>\n",
       "      <th>Mode</th>\n",
       "      <th>Wave Start Date</th>\n",
       "      <th>Wave End Date</th>\n",
       "      <th>Status</th>\n",
       "      <th>Participant Id</th>\n",
       "      <th>Publish Id</th>\n",
       "      <th>...</th>\n",
       "      <th>CoachingSatisfaction</th>\n",
       "      <th>CoachingFeedback</th>\n",
       "      <th>Goal Record ID</th>\n",
       "      <th>Weekly Coaching Engagement Unique ID</th>\n",
       "      <th>Date of Engagement</th>\n",
       "      <th>3rd Party Referrals</th>\n",
       "      <th>national_referral</th>\n",
       "      <th>Aduro_resource</th>\n",
       "      <th>external_resource</th>\n",
       "      <th>Coach Mentor</th>\n",
       "    </tr>\n",
       "  </thead>\n",
       "  <tbody>\n",
       "    <tr>\n",
       "      <th>0</th>\n",
       "      <td>3031512</td>\n",
       "      <td>1616</td>\n",
       "      <td>1:1 Coaching survey</td>\n",
       "      <td>NaN</td>\n",
       "      <td>WEB</td>\n",
       "      <td>2021-01-28 08:00:00</td>\n",
       "      <td>2051-01-28 08:00:00</td>\n",
       "      <td>Completed</td>\n",
       "      <td>NaN</td>\n",
       "      <td>1616</td>\n",
       "      <td>...</td>\n",
       "      <td>Very Satisfied</td>\n",
       "      <td>I like that whatever topic I bring up, Coach K...</td>\n",
       "      <td>20210430-2082433</td>\n",
       "      <td>E-20210603-5711072</td>\n",
       "      <td>6/3/21</td>\n",
       "      <td>NaN</td>\n",
       "      <td>NaN</td>\n",
       "      <td>Path/Mini Path</td>\n",
       "      <td>NaN</td>\n",
       "      <td>Coach Kenzie B.</td>\n",
       "    </tr>\n",
       "    <tr>\n",
       "      <th>1</th>\n",
       "      <td>3059859</td>\n",
       "      <td>1616</td>\n",
       "      <td>1:1 Coaching survey</td>\n",
       "      <td>NaN</td>\n",
       "      <td>WEB</td>\n",
       "      <td>2021-01-28 08:00:00</td>\n",
       "      <td>2051-01-28 08:00:00</td>\n",
       "      <td>Completed</td>\n",
       "      <td>NaN</td>\n",
       "      <td>1616</td>\n",
       "      <td>...</td>\n",
       "      <td>Very Satisfied</td>\n",
       "      <td>Coach Kenzie B does a good job listening and b...</td>\n",
       "      <td>20210430-2082433</td>\n",
       "      <td>E-20210603-5711072</td>\n",
       "      <td>6/3/21</td>\n",
       "      <td>NaN</td>\n",
       "      <td>NaN</td>\n",
       "      <td>Path/Mini Path</td>\n",
       "      <td>NaN</td>\n",
       "      <td>Coach Kenzie B.</td>\n",
       "    </tr>\n",
       "    <tr>\n",
       "      <th>2</th>\n",
       "      <td>3091518</td>\n",
       "      <td>1616</td>\n",
       "      <td>1:1 Coaching survey</td>\n",
       "      <td>NaN</td>\n",
       "      <td>WEB</td>\n",
       "      <td>2021-01-28 08:00:00</td>\n",
       "      <td>2051-01-28 08:00:00</td>\n",
       "      <td>Completed</td>\n",
       "      <td>NaN</td>\n",
       "      <td>1616</td>\n",
       "      <td>...</td>\n",
       "      <td>Very Satisfied</td>\n",
       "      <td>I like that the session adapts to what I need ...</td>\n",
       "      <td>20210430-2082433</td>\n",
       "      <td>E-20210603-5711072</td>\n",
       "      <td>6/3/21</td>\n",
       "      <td>NaN</td>\n",
       "      <td>NaN</td>\n",
       "      <td>Path/Mini Path</td>\n",
       "      <td>NaN</td>\n",
       "      <td>Coach Kenzie B.</td>\n",
       "    </tr>\n",
       "    <tr>\n",
       "      <th>3</th>\n",
       "      <td>3123076</td>\n",
       "      <td>1616</td>\n",
       "      <td>1:1 Coaching survey</td>\n",
       "      <td>NaN</td>\n",
       "      <td>WEB</td>\n",
       "      <td>2021-01-28 08:00:00</td>\n",
       "      <td>2051-01-28 08:00:00</td>\n",
       "      <td>Completed</td>\n",
       "      <td>NaN</td>\n",
       "      <td>1616</td>\n",
       "      <td>...</td>\n",
       "      <td>Very Satisfied</td>\n",
       "      <td>NaN</td>\n",
       "      <td>20210430-2082433</td>\n",
       "      <td>E-20210603-5711072</td>\n",
       "      <td>6/3/21</td>\n",
       "      <td>NaN</td>\n",
       "      <td>NaN</td>\n",
       "      <td>Path/Mini Path</td>\n",
       "      <td>NaN</td>\n",
       "      <td>Coach Kenzie B.</td>\n",
       "    </tr>\n",
       "    <tr>\n",
       "      <th>4</th>\n",
       "      <td>3140938</td>\n",
       "      <td>1616</td>\n",
       "      <td>1:1 Coaching survey</td>\n",
       "      <td>NaN</td>\n",
       "      <td>WEB</td>\n",
       "      <td>2021-01-28 08:00:00</td>\n",
       "      <td>2051-01-28 08:00:00</td>\n",
       "      <td>Completed</td>\n",
       "      <td>NaN</td>\n",
       "      <td>1616</td>\n",
       "      <td>...</td>\n",
       "      <td>Very Satisfied</td>\n",
       "      <td>NaN</td>\n",
       "      <td>20210430-2082433</td>\n",
       "      <td>E-20210603-5711072</td>\n",
       "      <td>6/3/21</td>\n",
       "      <td>NaN</td>\n",
       "      <td>NaN</td>\n",
       "      <td>Path/Mini Path</td>\n",
       "      <td>NaN</td>\n",
       "      <td>Coach Kenzie B.</td>\n",
       "    </tr>\n",
       "  </tbody>\n",
       "</table>\n",
       "<p>5 rows × 32 columns</p>\n",
       "</div>"
      ],
      "text/plain": [
       "   User Progress Id  Survey Id         Survey Title  Language Mode  \\\n",
       "0           3031512       1616  1:1 Coaching survey       NaN  WEB   \n",
       "1           3059859       1616  1:1 Coaching survey       NaN  WEB   \n",
       "2           3091518       1616  1:1 Coaching survey       NaN  WEB   \n",
       "3           3123076       1616  1:1 Coaching survey       NaN  WEB   \n",
       "4           3140938       1616  1:1 Coaching survey       NaN  WEB   \n",
       "\n",
       "       Wave Start Date        Wave End Date     Status  Participant Id  \\\n",
       "0  2021-01-28 08:00:00  2051-01-28 08:00:00  Completed             NaN   \n",
       "1  2021-01-28 08:00:00  2051-01-28 08:00:00  Completed             NaN   \n",
       "2  2021-01-28 08:00:00  2051-01-28 08:00:00  Completed             NaN   \n",
       "3  2021-01-28 08:00:00  2051-01-28 08:00:00  Completed             NaN   \n",
       "4  2021-01-28 08:00:00  2051-01-28 08:00:00  Completed             NaN   \n",
       "\n",
       "   Publish Id  ...  CoachingSatisfaction  \\\n",
       "0        1616  ...        Very Satisfied   \n",
       "1        1616  ...        Very Satisfied   \n",
       "2        1616  ...        Very Satisfied   \n",
       "3        1616  ...        Very Satisfied   \n",
       "4        1616  ...        Very Satisfied   \n",
       "\n",
       "                                    CoachingFeedback    Goal Record ID  \\\n",
       "0  I like that whatever topic I bring up, Coach K...  20210430-2082433   \n",
       "1  Coach Kenzie B does a good job listening and b...  20210430-2082433   \n",
       "2  I like that the session adapts to what I need ...  20210430-2082433   \n",
       "3                                                NaN  20210430-2082433   \n",
       "4                                                NaN  20210430-2082433   \n",
       "\n",
       "  Weekly Coaching Engagement Unique ID Date of Engagement 3rd Party Referrals  \\\n",
       "0                   E-20210603-5711072             6/3/21                 NaN   \n",
       "1                   E-20210603-5711072             6/3/21                 NaN   \n",
       "2                   E-20210603-5711072             6/3/21                 NaN   \n",
       "3                   E-20210603-5711072             6/3/21                 NaN   \n",
       "4                   E-20210603-5711072             6/3/21                 NaN   \n",
       "\n",
       "  national_referral  Aduro_resource  external_resource     Coach Mentor  \n",
       "0               NaN  Path/Mini Path                NaN  Coach Kenzie B.  \n",
       "1               NaN  Path/Mini Path                NaN  Coach Kenzie B.  \n",
       "2               NaN  Path/Mini Path                NaN  Coach Kenzie B.  \n",
       "3               NaN  Path/Mini Path                NaN  Coach Kenzie B.  \n",
       "4               NaN  Path/Mini Path                NaN  Coach Kenzie B.  \n",
       "\n",
       "[5 rows x 32 columns]"
      ]
     },
     "execution_count": 15,
     "metadata": {},
     "output_type": "execute_result"
    }
   ],
   "source": [
    "merged2 = pd.merge(survey, referrals,how='inner', on=['External Participant Id'])\n",
    "merged2.head()"
   ]
  },
  {
   "cell_type": "code",
   "execution_count": 21,
   "metadata": {},
   "outputs": [
    {
     "name": "stdout",
     "output_type": "stream",
     "text": [
      "<class 'pandas.core.frame.DataFrame'>\n",
      "Int64Index: 360 entries, 0 to 359\n",
      "Data columns (total 32 columns):\n",
      " #   Column                                Non-Null Count  Dtype  \n",
      "---  ------                                --------------  -----  \n",
      " 0   User Progress Id                      360 non-null    int64  \n",
      " 1   Survey Id                             360 non-null    int64  \n",
      " 2   Survey Title                          360 non-null    object \n",
      " 3   Language                              0 non-null      float64\n",
      " 4   Mode                                  330 non-null    object \n",
      " 5   Wave Start Date                       360 non-null    object \n",
      " 6   Wave End Date                         360 non-null    object \n",
      " 7   Status                                360 non-null    object \n",
      " 8   Participant Id                        0 non-null      float64\n",
      " 9   Publish Id                            360 non-null    int64  \n",
      " 10  Instance                              360 non-null    int64  \n",
      " 11  User Id                               360 non-null    int64  \n",
      " 12  Contact Id                            360 non-null    object \n",
      " 13  External Participant Id               354 non-null    object \n",
      " 14  Employer Id                           22 non-null     object \n",
      " 15  Start Date Time Stamp                 360 non-null    object \n",
      " 16  End Date Time Stamp                   324 non-null    object \n",
      " 17  CoachingConfidence                    330 non-null    float64\n",
      " 18  CoachingMotivation                    324 non-null    float64\n",
      " 19  CMLFlourishOverallSatisfied           324 non-null    float64\n",
      " 20  CMLFlourishHappy                      324 non-null    float64\n",
      " 21  CoachingHabitsGoalsAlignment          324 non-null    object \n",
      " 22  CoachingSatisfaction                  324 non-null    object \n",
      " 23  CoachingFeedback                      157 non-null    object \n",
      " 24  Goal Record ID                        354 non-null    object \n",
      " 25  Weekly Coaching Engagement Unique ID  354 non-null    object \n",
      " 26  Date of Engagement                    354 non-null    object \n",
      " 27  3rd Party Referrals                   1 non-null      object \n",
      " 28  national_referral                     0 non-null      float64\n",
      " 29  Aduro_resource                        354 non-null    object \n",
      " 30  external_resource                     10 non-null     object \n",
      " 31  Coach Mentor                          354 non-null    object \n",
      "dtypes: float64(7), int64(5), object(20)\n",
      "memory usage: 92.8+ KB\n"
     ]
    }
   ],
   "source": [
    "merged2.info()"
   ]
  },
  {
   "cell_type": "code",
   "execution_count": 16,
   "metadata": {},
   "outputs": [
    {
     "data": {
      "text/plain": [
       "8.566666666666666"
      ]
     },
     "execution_count": 16,
     "metadata": {},
     "output_type": "execute_result"
    }
   ],
   "source": [
    "merged2['CoachingConfidence'].mean()"
   ]
  },
  {
   "cell_type": "code",
   "execution_count": 17,
   "metadata": {},
   "outputs": [
    {
     "data": {
      "text/plain": [
       "8.947530864197532"
      ]
     },
     "execution_count": 17,
     "metadata": {},
     "output_type": "execute_result"
    }
   ],
   "source": [
    "merged2['CoachingMotivation'].mean()"
   ]
  },
  {
   "cell_type": "code",
   "execution_count": 31,
   "metadata": {},
   "outputs": [
    {
     "data": {
      "image/png": "[encoded data removed]",
      "text/plain": [
       "<Figure size 432x288 with 1 Axes>"
      ]
     },
     "metadata": {
      "needs_background": "light"
     },
     "output_type": "display_data"
    }
   ],
   "source": [
    "x= merged2['CoachingMotivation']\n",
    "y=merged2['CoachingConfidence']\n",
    "z= merged2['CoachingHabitsGoalsAlignment']\n",
    "\n",
    "X_axis = np.arange(len(z))\n",
    "  \n",
    "plt.bar(X_axis - 0.2, x, 0.2, label = 'Coaching Motivation')\n",
    "plt.bar(X_axis + 0.2, y, 0.2, label = 'Coaching Confidence')\n",
    "  \n",
    "plt.xticks(X_axis, z)\n",
    "plt.xlabel(\"Habits aligned with Goal(s)\")\n",
    "plt.ylabel(\"Average score per aligment score \")\n",
    "plt.title(\"Comparing confidence and motivation with Habits and goal alignment\")\n",
    "plt.legend(loc='center', bbox_to_anchor=(0.5, 1.15), ncol=2)\n",
    "plt.show()"
   ]
  },
  {
   "cell_type": "code",
   "execution_count": 18,
   "metadata": {},
   "outputs": [
    {
     "name": "stdout",
     "output_type": "stream",
     "text": [
      "<class 'pandas.core.frame.DataFrame'>\n",
      "RangeIndex: 83 entries, 0 to 82\n",
      "Data columns (total 9 columns):\n",
      " #   Column                                Non-Null Count  Dtype  \n",
      "---  ------                                --------------  -----  \n",
      " 0   Goal Record ID                        77 non-null     object \n",
      " 1   Weekly Coaching Engagement Unique ID  77 non-null     object \n",
      " 2   External Participant Id               77 non-null     object \n",
      " 3   Date of Engagement                    77 non-null     object \n",
      " 4   3rd Party Referrals                   1 non-null      object \n",
      " 5   national_referral                     0 non-null      float64\n",
      " 6   Aduro_resource                        77 non-null     object \n",
      " 7   external_resource                     1 non-null      object \n",
      " 8   Coach Mentor                          77 non-null     object \n",
      "dtypes: float64(1), object(8)\n",
      "memory usage: 6.0+ KB\n"
     ]
    }
   ],
   "source": [
    "referrals.info()"
   ]
  },
  {
   "cell_type": "code",
   "execution_count": 22,
   "metadata": {},
   "outputs": [
    {
     "data": {
      "text/plain": [
       "<matplotlib.axes._subplots.AxesSubplot at 0x7fe43ec509d0>"
      ]
     },
     "execution_count": 22,
     "metadata": {},
     "output_type": "execute_result"
    },
    {
     "data": {
      "image/png": "[encoded data removed]",
      "text/plain": [
       "<Figure size 432x288 with 1 Axes>"
      ]
     },
     "metadata": {
      "needs_background": "light"
     },
     "output_type": "display_data"
    }
   ],
   "source": [
    "sns.countplot(x=\"Aduro_resource\", data=referrals) #number of members who were given a Path referral "
   ]
  },
  {
   "cell_type": "code",
   "execution_count": 24,
   "metadata": {},
   "outputs": [
    {
     "data": {
      "text/plain": [
       "<matplotlib.axes._subplots.AxesSubplot at 0x7fe43f120a90>"
      ]
     },
     "execution_count": 24,
     "metadata": {},
     "output_type": "execute_result"
    },
    {
     "data": {
      "image/png": "[encoded data removed]",
      "text/plain": [
       "<Figure size 432x288 with 1 Axes>"
      ]
     },
     "metadata": {
      "needs_background": "light"
     },
     "output_type": "display_data"
    }
   ],
   "source": [
    "sns.countplot(x=\"Goal Record ID_x\", data=itworked2) #of unique webinars(goals) of those who were given a referral "
   ]
  },
  {
   "cell_type": "code",
   "execution_count": 25,
   "metadata": {},
   "outputs": [
    {
     "data": {
      "text/plain": [
       "<matplotlib.axes._subplots.AxesSubplot at 0x7fe43f1f66a0>"
      ]
     },
     "execution_count": 25,
     "metadata": {},
     "output_type": "execute_result"
    },
    {
     "data": {
      "image/png": "[encoded data removed]",
      "text/plain": [
       "<Figure size 432x288 with 1 Axes>"
      ]
     },
     "metadata": {
      "needs_background": "light"
     },
     "output_type": "display_data"
    }
   ],
   "source": [
    "sns.countplot(x=\"Overall Goal Status\", data=itworked2) #goal status of those goals were a member signed up because of a coach referral "
   ]
  },
  {
   "cell_type": "code",
   "execution_count": 32,
   "metadata": {},
   "outputs": [
    {
     "data": {
      "text/plain": [
       "<matplotlib.axes._subplots.AxesSubplot at 0x7fe43f3cd130>"
      ]
     },
     "execution_count": 32,
     "metadata": {},
     "output_type": "execute_result"
    },
    {
     "data": {
      "image/png": "[encoded data removed]",
      "text/plain": [
       "<Figure size 432x288 with 1 Axes>"
      ]
     },
     "metadata": {
      "needs_background": "light"
     },
     "output_type": "display_data"
    }
   ],
   "source": [
    "sns.countplot(x=\"Total Received Engagements\", data=itworked2)"
   ]
  }
 ],
 "metadata": {
  "kernelspec": {
   "display_name": "Python 3",
   "language": "python",
   "name": "python3"
  },
  "language_info": {
   "codemirror_mode": {
    "name": "ipython",
    "version": 3
   },
   "file_extension": ".py",
   "mimetype": "text/x-python",
   "name": "python",
   "nbconvert_exporter": "python",
   "pygments_lexer": "ipython3",
   "version": "3.8.3"
  }
 },
 "nbformat": 4,
 "nbformat_minor": 4
}
